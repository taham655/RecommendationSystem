{
 "cells": [
  {
   "cell_type": "code",
   "execution_count": 1,
   "id": "3e2d1523",
   "metadata": {
    "_cell_guid": "b1076dfc-b9ad-4769-8c92-a6c4dae69d19",
    "_uuid": "8f2839f25d086af736a60e9eeb907d3b93b6e0e5",
    "execution": {
     "iopub.execute_input": "2023-03-13T02:40:58.990650Z",
     "iopub.status.busy": "2023-03-13T02:40:58.989793Z",
     "iopub.status.idle": "2023-03-13T02:40:59.012644Z",
     "shell.execute_reply": "2023-03-13T02:40:59.011232Z"
    },
    "papermill": {
     "duration": 0.03439,
     "end_time": "2023-03-13T02:40:59.016458",
     "exception": false,
     "start_time": "2023-03-13T02:40:58.982068",
     "status": "completed"
    },
    "tags": []
   },
   "outputs": [
    {
     "name": "stdout",
     "output_type": "stream",
     "text": [
      "/kaggle/input/tmdb-movie-metadata/tmdb_5000_movies.csv\n",
      "/kaggle/input/tmdb-movie-metadata/tmdb_5000_credits.csv\n"
     ]
    }
   ],
   "source": [
    "# This Python 3 environment comes with many helpful analytics libraries installed\n",
    "# It is defined by the kaggle/python Docker image: https://github.com/kaggle/docker-python\n",
    "# For example, here's several helpful packages to load\n",
    "\n",
    "import numpy as np # linear algebra\n",
    "import pandas as pd # data processing, CSV file I/O (e.g. pd.read_csv)\n",
    "\n",
    "# Input data files are available in the read-only \"../input/\" directory\n",
    "# For example, running this (by clicking run or pressing Shift+Enter) will list all files under the input directory\n",
    "\n",
    "import os\n",
    "for dirname, _, filenames in os.walk('/kaggle/input'):\n",
    "    for filename in filenames:\n",
    "        print(os.path.join(dirname, filename))\n",
    "\n",
    "# You can write up to 20GB to the current directory (/kaggle/working/) that gets preserved as output when you create a version using \"Save & Run All\" \n",
    "# You can also write temporary files to /kaggle/temp/, but they won't be saved outside of the current session"
   ]
  },
  {
   "cell_type": "markdown",
   "id": "f4acd6c1",
   "metadata": {
    "papermill": {
     "duration": 0.004359,
     "end_time": "2023-03-13T02:40:59.026251",
     "exception": false,
     "start_time": "2023-03-13T02:40:59.021892",
     "status": "completed"
    },
    "tags": []
   },
   "source": [
    "# Content Based Filtering"
   ]
  },
  {
   "cell_type": "markdown",
   "id": "654d646d",
   "metadata": {
    "papermill": {
     "duration": 0.004138,
     "end_time": "2023-03-13T02:40:59.035267",
     "exception": false,
     "start_time": "2023-03-13T02:40:59.031129",
     "status": "completed"
    },
    "tags": []
   },
   "source": [
    "We are going to build a content based recommendation system that gives recommendation using the plot of the movie\n"
   ]
  },
  {
   "cell_type": "code",
   "execution_count": 2,
   "id": "922bd287",
   "metadata": {
    "execution": {
     "iopub.execute_input": "2023-03-13T02:40:59.045871Z",
     "iopub.status.busy": "2023-03-13T02:40:59.045510Z",
     "iopub.status.idle": "2023-03-13T02:41:00.116316Z",
     "shell.execute_reply": "2023-03-13T02:41:00.114952Z"
    },
    "papermill": {
     "duration": 1.080481,
     "end_time": "2023-03-13T02:41:00.120000",
     "exception": false,
     "start_time": "2023-03-13T02:40:59.039519",
     "status": "completed"
    },
    "tags": []
   },
   "outputs": [],
   "source": [
    "data1 = pd.read_csv(\"/kaggle/input/tmdb-movie-metadata/tmdb_5000_movies.csv\")\n",
    "data2 = pd.read_csv(\"/kaggle/input/tmdb-movie-metadata/tmdb_5000_credits.csv\")"
   ]
  },
  {
   "cell_type": "code",
   "execution_count": 3,
   "id": "9de31aca",
   "metadata": {
    "execution": {
     "iopub.execute_input": "2023-03-13T02:41:00.132243Z",
     "iopub.status.busy": "2023-03-13T02:41:00.131824Z",
     "iopub.status.idle": "2023-03-13T02:41:00.176542Z",
     "shell.execute_reply": "2023-03-13T02:41:00.175141Z"
    },
    "papermill": {
     "duration": 0.054356,
     "end_time": "2023-03-13T02:41:00.179480",
     "exception": false,
     "start_time": "2023-03-13T02:41:00.125124",
     "status": "completed"
    },
    "tags": []
   },
   "outputs": [
    {
     "data": {
      "text/html": [
       "<div>\n",
       "<style scoped>\n",
       "    .dataframe tbody tr th:only-of-type {\n",
       "        vertical-align: middle;\n",
       "    }\n",
       "\n",
       "    .dataframe tbody tr th {\n",
       "        vertical-align: top;\n",
       "    }\n",
       "\n",
       "    .dataframe thead th {\n",
       "        text-align: right;\n",
       "    }\n",
       "</style>\n",
       "<table border=\"1\" class=\"dataframe\">\n",
       "  <thead>\n",
       "    <tr style=\"text-align: right;\">\n",
       "      <th></th>\n",
       "      <th>budget</th>\n",
       "      <th>genres</th>\n",
       "      <th>homepage</th>\n",
       "      <th>id</th>\n",
       "      <th>keywords</th>\n",
       "      <th>original_language</th>\n",
       "      <th>original_title</th>\n",
       "      <th>overview</th>\n",
       "      <th>popularity</th>\n",
       "      <th>production_companies</th>\n",
       "      <th>production_countries</th>\n",
       "      <th>release_date</th>\n",
       "      <th>revenue</th>\n",
       "      <th>runtime</th>\n",
       "      <th>spoken_languages</th>\n",
       "      <th>status</th>\n",
       "      <th>tagline</th>\n",
       "      <th>title</th>\n",
       "      <th>vote_average</th>\n",
       "      <th>vote_count</th>\n",
       "    </tr>\n",
       "  </thead>\n",
       "  <tbody>\n",
       "    <tr>\n",
       "      <th>0</th>\n",
       "      <td>237000000</td>\n",
       "      <td>[{\"id\": 28, \"name\": \"Action\"}, {\"id\": 12, \"nam...</td>\n",
       "      <td>http://www.avatarmovie.com/</td>\n",
       "      <td>19995</td>\n",
       "      <td>[{\"id\": 1463, \"name\": \"culture clash\"}, {\"id\":...</td>\n",
       "      <td>en</td>\n",
       "      <td>Avatar</td>\n",
       "      <td>In the 22nd century, a paraplegic Marine is di...</td>\n",
       "      <td>150.437577</td>\n",
       "      <td>[{\"name\": \"Ingenious Film Partners\", \"id\": 289...</td>\n",
       "      <td>[{\"iso_3166_1\": \"US\", \"name\": \"United States o...</td>\n",
       "      <td>2009-12-10</td>\n",
       "      <td>2787965087</td>\n",
       "      <td>162.0</td>\n",
       "      <td>[{\"iso_639_1\": \"en\", \"name\": \"English\"}, {\"iso...</td>\n",
       "      <td>Released</td>\n",
       "      <td>Enter the World of Pandora.</td>\n",
       "      <td>Avatar</td>\n",
       "      <td>7.2</td>\n",
       "      <td>11800</td>\n",
       "    </tr>\n",
       "    <tr>\n",
       "      <th>1</th>\n",
       "      <td>300000000</td>\n",
       "      <td>[{\"id\": 12, \"name\": \"Adventure\"}, {\"id\": 14, \"...</td>\n",
       "      <td>http://disney.go.com/disneypictures/pirates/</td>\n",
       "      <td>285</td>\n",
       "      <td>[{\"id\": 270, \"name\": \"ocean\"}, {\"id\": 726, \"na...</td>\n",
       "      <td>en</td>\n",
       "      <td>Pirates of the Caribbean: At World's End</td>\n",
       "      <td>Captain Barbossa, long believed to be dead, ha...</td>\n",
       "      <td>139.082615</td>\n",
       "      <td>[{\"name\": \"Walt Disney Pictures\", \"id\": 2}, {\"...</td>\n",
       "      <td>[{\"iso_3166_1\": \"US\", \"name\": \"United States o...</td>\n",
       "      <td>2007-05-19</td>\n",
       "      <td>961000000</td>\n",
       "      <td>169.0</td>\n",
       "      <td>[{\"iso_639_1\": \"en\", \"name\": \"English\"}]</td>\n",
       "      <td>Released</td>\n",
       "      <td>At the end of the world, the adventure begins.</td>\n",
       "      <td>Pirates of the Caribbean: At World's End</td>\n",
       "      <td>6.9</td>\n",
       "      <td>4500</td>\n",
       "    </tr>\n",
       "    <tr>\n",
       "      <th>2</th>\n",
       "      <td>245000000</td>\n",
       "      <td>[{\"id\": 28, \"name\": \"Action\"}, {\"id\": 12, \"nam...</td>\n",
       "      <td>http://www.sonypictures.com/movies/spectre/</td>\n",
       "      <td>206647</td>\n",
       "      <td>[{\"id\": 470, \"name\": \"spy\"}, {\"id\": 818, \"name...</td>\n",
       "      <td>en</td>\n",
       "      <td>Spectre</td>\n",
       "      <td>A cryptic message from Bond’s past sends him o...</td>\n",
       "      <td>107.376788</td>\n",
       "      <td>[{\"name\": \"Columbia Pictures\", \"id\": 5}, {\"nam...</td>\n",
       "      <td>[{\"iso_3166_1\": \"GB\", \"name\": \"United Kingdom\"...</td>\n",
       "      <td>2015-10-26</td>\n",
       "      <td>880674609</td>\n",
       "      <td>148.0</td>\n",
       "      <td>[{\"iso_639_1\": \"fr\", \"name\": \"Fran\\u00e7ais\"},...</td>\n",
       "      <td>Released</td>\n",
       "      <td>A Plan No One Escapes</td>\n",
       "      <td>Spectre</td>\n",
       "      <td>6.3</td>\n",
       "      <td>4466</td>\n",
       "    </tr>\n",
       "    <tr>\n",
       "      <th>3</th>\n",
       "      <td>250000000</td>\n",
       "      <td>[{\"id\": 28, \"name\": \"Action\"}, {\"id\": 80, \"nam...</td>\n",
       "      <td>http://www.thedarkknightrises.com/</td>\n",
       "      <td>49026</td>\n",
       "      <td>[{\"id\": 849, \"name\": \"dc comics\"}, {\"id\": 853,...</td>\n",
       "      <td>en</td>\n",
       "      <td>The Dark Knight Rises</td>\n",
       "      <td>Following the death of District Attorney Harve...</td>\n",
       "      <td>112.312950</td>\n",
       "      <td>[{\"name\": \"Legendary Pictures\", \"id\": 923}, {\"...</td>\n",
       "      <td>[{\"iso_3166_1\": \"US\", \"name\": \"United States o...</td>\n",
       "      <td>2012-07-16</td>\n",
       "      <td>1084939099</td>\n",
       "      <td>165.0</td>\n",
       "      <td>[{\"iso_639_1\": \"en\", \"name\": \"English\"}]</td>\n",
       "      <td>Released</td>\n",
       "      <td>The Legend Ends</td>\n",
       "      <td>The Dark Knight Rises</td>\n",
       "      <td>7.6</td>\n",
       "      <td>9106</td>\n",
       "    </tr>\n",
       "    <tr>\n",
       "      <th>4</th>\n",
       "      <td>260000000</td>\n",
       "      <td>[{\"id\": 28, \"name\": \"Action\"}, {\"id\": 12, \"nam...</td>\n",
       "      <td>http://movies.disney.com/john-carter</td>\n",
       "      <td>49529</td>\n",
       "      <td>[{\"id\": 818, \"name\": \"based on novel\"}, {\"id\":...</td>\n",
       "      <td>en</td>\n",
       "      <td>John Carter</td>\n",
       "      <td>John Carter is a war-weary, former military ca...</td>\n",
       "      <td>43.926995</td>\n",
       "      <td>[{\"name\": \"Walt Disney Pictures\", \"id\": 2}]</td>\n",
       "      <td>[{\"iso_3166_1\": \"US\", \"name\": \"United States o...</td>\n",
       "      <td>2012-03-07</td>\n",
       "      <td>284139100</td>\n",
       "      <td>132.0</td>\n",
       "      <td>[{\"iso_639_1\": \"en\", \"name\": \"English\"}]</td>\n",
       "      <td>Released</td>\n",
       "      <td>Lost in our world, found in another.</td>\n",
       "      <td>John Carter</td>\n",
       "      <td>6.1</td>\n",
       "      <td>2124</td>\n",
       "    </tr>\n",
       "  </tbody>\n",
       "</table>\n",
       "</div>"
      ],
      "text/plain": [
       "      budget                                             genres  \\\n",
       "0  237000000  [{\"id\": 28, \"name\": \"Action\"}, {\"id\": 12, \"nam...   \n",
       "1  300000000  [{\"id\": 12, \"name\": \"Adventure\"}, {\"id\": 14, \"...   \n",
       "2  245000000  [{\"id\": 28, \"name\": \"Action\"}, {\"id\": 12, \"nam...   \n",
       "3  250000000  [{\"id\": 28, \"name\": \"Action\"}, {\"id\": 80, \"nam...   \n",
       "4  260000000  [{\"id\": 28, \"name\": \"Action\"}, {\"id\": 12, \"nam...   \n",
       "\n",
       "                                       homepage      id  \\\n",
       "0                   http://www.avatarmovie.com/   19995   \n",
       "1  http://disney.go.com/disneypictures/pirates/     285   \n",
       "2   http://www.sonypictures.com/movies/spectre/  206647   \n",
       "3            http://www.thedarkknightrises.com/   49026   \n",
       "4          http://movies.disney.com/john-carter   49529   \n",
       "\n",
       "                                            keywords original_language  \\\n",
       "0  [{\"id\": 1463, \"name\": \"culture clash\"}, {\"id\":...                en   \n",
       "1  [{\"id\": 270, \"name\": \"ocean\"}, {\"id\": 726, \"na...                en   \n",
       "2  [{\"id\": 470, \"name\": \"spy\"}, {\"id\": 818, \"name...                en   \n",
       "3  [{\"id\": 849, \"name\": \"dc comics\"}, {\"id\": 853,...                en   \n",
       "4  [{\"id\": 818, \"name\": \"based on novel\"}, {\"id\":...                en   \n",
       "\n",
       "                             original_title  \\\n",
       "0                                    Avatar   \n",
       "1  Pirates of the Caribbean: At World's End   \n",
       "2                                   Spectre   \n",
       "3                     The Dark Knight Rises   \n",
       "4                               John Carter   \n",
       "\n",
       "                                            overview  popularity  \\\n",
       "0  In the 22nd century, a paraplegic Marine is di...  150.437577   \n",
       "1  Captain Barbossa, long believed to be dead, ha...  139.082615   \n",
       "2  A cryptic message from Bond’s past sends him o...  107.376788   \n",
       "3  Following the death of District Attorney Harve...  112.312950   \n",
       "4  John Carter is a war-weary, former military ca...   43.926995   \n",
       "\n",
       "                                production_companies  \\\n",
       "0  [{\"name\": \"Ingenious Film Partners\", \"id\": 289...   \n",
       "1  [{\"name\": \"Walt Disney Pictures\", \"id\": 2}, {\"...   \n",
       "2  [{\"name\": \"Columbia Pictures\", \"id\": 5}, {\"nam...   \n",
       "3  [{\"name\": \"Legendary Pictures\", \"id\": 923}, {\"...   \n",
       "4        [{\"name\": \"Walt Disney Pictures\", \"id\": 2}]   \n",
       "\n",
       "                                production_countries release_date     revenue  \\\n",
       "0  [{\"iso_3166_1\": \"US\", \"name\": \"United States o...   2009-12-10  2787965087   \n",
       "1  [{\"iso_3166_1\": \"US\", \"name\": \"United States o...   2007-05-19   961000000   \n",
       "2  [{\"iso_3166_1\": \"GB\", \"name\": \"United Kingdom\"...   2015-10-26   880674609   \n",
       "3  [{\"iso_3166_1\": \"US\", \"name\": \"United States o...   2012-07-16  1084939099   \n",
       "4  [{\"iso_3166_1\": \"US\", \"name\": \"United States o...   2012-03-07   284139100   \n",
       "\n",
       "   runtime                                   spoken_languages    status  \\\n",
       "0    162.0  [{\"iso_639_1\": \"en\", \"name\": \"English\"}, {\"iso...  Released   \n",
       "1    169.0           [{\"iso_639_1\": \"en\", \"name\": \"English\"}]  Released   \n",
       "2    148.0  [{\"iso_639_1\": \"fr\", \"name\": \"Fran\\u00e7ais\"},...  Released   \n",
       "3    165.0           [{\"iso_639_1\": \"en\", \"name\": \"English\"}]  Released   \n",
       "4    132.0           [{\"iso_639_1\": \"en\", \"name\": \"English\"}]  Released   \n",
       "\n",
       "                                          tagline  \\\n",
       "0                     Enter the World of Pandora.   \n",
       "1  At the end of the world, the adventure begins.   \n",
       "2                           A Plan No One Escapes   \n",
       "3                                 The Legend Ends   \n",
       "4            Lost in our world, found in another.   \n",
       "\n",
       "                                      title  vote_average  vote_count  \n",
       "0                                    Avatar           7.2       11800  \n",
       "1  Pirates of the Caribbean: At World's End           6.9        4500  \n",
       "2                                   Spectre           6.3        4466  \n",
       "3                     The Dark Knight Rises           7.6        9106  \n",
       "4                               John Carter           6.1        2124  "
      ]
     },
     "execution_count": 3,
     "metadata": {},
     "output_type": "execute_result"
    }
   ],
   "source": [
    "data1.head()"
   ]
  },
  {
   "cell_type": "code",
   "execution_count": 4,
   "id": "655ad506",
   "metadata": {
    "execution": {
     "iopub.execute_input": "2023-03-13T02:41:00.193408Z",
     "iopub.status.busy": "2023-03-13T02:41:00.192143Z",
     "iopub.status.idle": "2023-03-13T02:41:00.208594Z",
     "shell.execute_reply": "2023-03-13T02:41:00.207108Z"
    },
    "papermill": {
     "duration": 0.026076,
     "end_time": "2023-03-13T02:41:00.211135",
     "exception": false,
     "start_time": "2023-03-13T02:41:00.185059",
     "status": "completed"
    },
    "tags": []
   },
   "outputs": [
    {
     "data": {
      "text/html": [
       "<div>\n",
       "<style scoped>\n",
       "    .dataframe tbody tr th:only-of-type {\n",
       "        vertical-align: middle;\n",
       "    }\n",
       "\n",
       "    .dataframe tbody tr th {\n",
       "        vertical-align: top;\n",
       "    }\n",
       "\n",
       "    .dataframe thead th {\n",
       "        text-align: right;\n",
       "    }\n",
       "</style>\n",
       "<table border=\"1\" class=\"dataframe\">\n",
       "  <thead>\n",
       "    <tr style=\"text-align: right;\">\n",
       "      <th></th>\n",
       "      <th>movie_id</th>\n",
       "      <th>title</th>\n",
       "      <th>cast</th>\n",
       "      <th>crew</th>\n",
       "    </tr>\n",
       "  </thead>\n",
       "  <tbody>\n",
       "    <tr>\n",
       "      <th>0</th>\n",
       "      <td>19995</td>\n",
       "      <td>Avatar</td>\n",
       "      <td>[{\"cast_id\": 242, \"character\": \"Jake Sully\", \"...</td>\n",
       "      <td>[{\"credit_id\": \"52fe48009251416c750aca23\", \"de...</td>\n",
       "    </tr>\n",
       "    <tr>\n",
       "      <th>1</th>\n",
       "      <td>285</td>\n",
       "      <td>Pirates of the Caribbean: At World's End</td>\n",
       "      <td>[{\"cast_id\": 4, \"character\": \"Captain Jack Spa...</td>\n",
       "      <td>[{\"credit_id\": \"52fe4232c3a36847f800b579\", \"de...</td>\n",
       "    </tr>\n",
       "    <tr>\n",
       "      <th>2</th>\n",
       "      <td>206647</td>\n",
       "      <td>Spectre</td>\n",
       "      <td>[{\"cast_id\": 1, \"character\": \"James Bond\", \"cr...</td>\n",
       "      <td>[{\"credit_id\": \"54805967c3a36829b5002c41\", \"de...</td>\n",
       "    </tr>\n",
       "    <tr>\n",
       "      <th>3</th>\n",
       "      <td>49026</td>\n",
       "      <td>The Dark Knight Rises</td>\n",
       "      <td>[{\"cast_id\": 2, \"character\": \"Bruce Wayne / Ba...</td>\n",
       "      <td>[{\"credit_id\": \"52fe4781c3a36847f81398c3\", \"de...</td>\n",
       "    </tr>\n",
       "    <tr>\n",
       "      <th>4</th>\n",
       "      <td>49529</td>\n",
       "      <td>John Carter</td>\n",
       "      <td>[{\"cast_id\": 5, \"character\": \"John Carter\", \"c...</td>\n",
       "      <td>[{\"credit_id\": \"52fe479ac3a36847f813eaa3\", \"de...</td>\n",
       "    </tr>\n",
       "  </tbody>\n",
       "</table>\n",
       "</div>"
      ],
      "text/plain": [
       "   movie_id                                     title  \\\n",
       "0     19995                                    Avatar   \n",
       "1       285  Pirates of the Caribbean: At World's End   \n",
       "2    206647                                   Spectre   \n",
       "3     49026                     The Dark Knight Rises   \n",
       "4     49529                               John Carter   \n",
       "\n",
       "                                                cast  \\\n",
       "0  [{\"cast_id\": 242, \"character\": \"Jake Sully\", \"...   \n",
       "1  [{\"cast_id\": 4, \"character\": \"Captain Jack Spa...   \n",
       "2  [{\"cast_id\": 1, \"character\": \"James Bond\", \"cr...   \n",
       "3  [{\"cast_id\": 2, \"character\": \"Bruce Wayne / Ba...   \n",
       "4  [{\"cast_id\": 5, \"character\": \"John Carter\", \"c...   \n",
       "\n",
       "                                                crew  \n",
       "0  [{\"credit_id\": \"52fe48009251416c750aca23\", \"de...  \n",
       "1  [{\"credit_id\": \"52fe4232c3a36847f800b579\", \"de...  \n",
       "2  [{\"credit_id\": \"54805967c3a36829b5002c41\", \"de...  \n",
       "3  [{\"credit_id\": \"52fe4781c3a36847f81398c3\", \"de...  \n",
       "4  [{\"credit_id\": \"52fe479ac3a36847f813eaa3\", \"de...  "
      ]
     },
     "execution_count": 4,
     "metadata": {},
     "output_type": "execute_result"
    }
   ],
   "source": [
    "data2.head()"
   ]
  },
  {
   "cell_type": "markdown",
   "id": "5e5822ab",
   "metadata": {
    "papermill": {
     "duration": 0.005214,
     "end_time": "2023-03-13T02:41:00.222061",
     "exception": false,
     "start_time": "2023-03-13T02:41:00.216847",
     "status": "completed"
    },
    "tags": []
   },
   "source": [
    "We are going to use the OVERVIEW attribute in the data1 dataset as it is an overall overview of the movie"
   ]
  },
  {
   "cell_type": "code",
   "execution_count": 5,
   "id": "ffa667a9",
   "metadata": {
    "execution": {
     "iopub.execute_input": "2023-03-13T02:41:00.234799Z",
     "iopub.status.busy": "2023-03-13T02:41:00.234402Z",
     "iopub.status.idle": "2023-03-13T02:41:00.247484Z",
     "shell.execute_reply": "2023-03-13T02:41:00.246138Z"
    },
    "papermill": {
     "duration": 0.022359,
     "end_time": "2023-03-13T02:41:00.249817",
     "exception": false,
     "start_time": "2023-03-13T02:41:00.227458",
     "status": "completed"
    },
    "tags": []
   },
   "outputs": [
    {
     "data": {
      "text/plain": [
       "0    In the 22nd century, a paraplegic Marine is di...\n",
       "1    Captain Barbossa, long believed to be dead, ha...\n",
       "2    A cryptic message from Bond’s past sends him o...\n",
       "3    Following the death of District Attorney Harve...\n",
       "4    John Carter is a war-weary, former military ca...\n",
       "Name: overview, dtype: object"
      ]
     },
     "execution_count": 5,
     "metadata": {},
     "output_type": "execute_result"
    }
   ],
   "source": [
    "data1[\"overview\"].head()"
   ]
  },
  {
   "cell_type": "markdown",
   "id": "4254f2ad",
   "metadata": {
    "papermill": {
     "duration": 0.0054,
     "end_time": "2023-03-13T02:41:00.261116",
     "exception": false,
     "start_time": "2023-03-13T02:41:00.255716",
     "status": "completed"
    },
    "tags": []
   },
   "source": [
    "We have to get the vector of each overview. We are going to calculate the TF-IDF of each overview. To give a brief introduction to what a [TF-IDF](https://monkeylearn.com/blog/what-is-tf-idf/) (Term Frequency-Inverse Document Frequency) in a nutshell it is a measure of how significant a word in a document. The frequent the word is the less importance it holds in a document. Its actually quite mind blowing how it works. \n",
    "\n",
    "We can just use the TfidfVectorizer class from scikit-learn "
   ]
  },
  {
   "cell_type": "code",
   "execution_count": 6,
   "id": "efc9cf09",
   "metadata": {
    "execution": {
     "iopub.execute_input": "2023-03-13T02:41:00.274992Z",
     "iopub.status.busy": "2023-03-13T02:41:00.273877Z",
     "iopub.status.idle": "2023-03-13T02:41:01.601349Z",
     "shell.execute_reply": "2023-03-13T02:41:01.600172Z"
    },
    "papermill": {
     "duration": 1.337064,
     "end_time": "2023-03-13T02:41:01.603949",
     "exception": false,
     "start_time": "2023-03-13T02:41:00.266885",
     "status": "completed"
    },
    "tags": []
   },
   "outputs": [
    {
     "data": {
      "text/plain": [
       "(4803, 20978)"
      ]
     },
     "execution_count": 6,
     "metadata": {},
     "output_type": "execute_result"
    }
   ],
   "source": [
    "import sklearn\n",
    "#importing the class from the scikit kit learn package \n",
    "from sklearn.feature_extraction.text import TfidfVectorizer \n",
    "\n",
    "#the stop words are bascially 'the' 'an' 'a' type of words\n",
    "tfidf = TfidfVectorizer(stop_words='english')\n",
    "\n",
    "#dealing with the nan values\n",
    "data1['overview'] = data1['overview'].fillna('')\n",
    "\n",
    "#transforming the dataframe\n",
    "\n",
    "tfidfMatrix = tfidf.fit_transform(data1['overview'])\n",
    "\n",
    "tfidfMatrix.shape"
   ]
  },
  {
   "cell_type": "markdown",
   "id": "79dc04d1",
   "metadata": {
    "papermill": {
     "duration": 0.005593,
     "end_time": "2023-03-13T02:41:01.615549",
     "exception": false,
     "start_time": "2023-03-13T02:41:01.609956",
     "status": "completed"
    },
    "tags": []
   },
   "source": [
    "In order to get the similarity score we are going to use the cosine similarity. \n",
    "\n",
    "We can just use the dot product of the out of TFIDF vecotrizer and that will give us the cosine similarity "
   ]
  },
  {
   "cell_type": "code",
   "execution_count": 7,
   "id": "07c74e55",
   "metadata": {
    "execution": {
     "iopub.execute_input": "2023-03-13T02:41:01.628989Z",
     "iopub.status.busy": "2023-03-13T02:41:01.628558Z",
     "iopub.status.idle": "2023-03-13T02:41:02.160433Z",
     "shell.execute_reply": "2023-03-13T02:41:02.159204Z"
    },
    "papermill": {
     "duration": 0.54207,
     "end_time": "2023-03-13T02:41:02.163456",
     "exception": false,
     "start_time": "2023-03-13T02:41:01.621386",
     "status": "completed"
    },
    "tags": []
   },
   "outputs": [],
   "source": [
    "from sklearn.metrics.pairwise import linear_kernel \n",
    "\n",
    "cos_similarity= linear_kernel(tfidfMatrix, tfidfMatrix)"
   ]
  },
  {
   "cell_type": "code",
   "execution_count": 8,
   "id": "0860f907",
   "metadata": {
    "execution": {
     "iopub.execute_input": "2023-03-13T02:41:02.179234Z",
     "iopub.status.busy": "2023-03-13T02:41:02.178818Z",
     "iopub.status.idle": "2023-03-13T02:41:02.187649Z",
     "shell.execute_reply": "2023-03-13T02:41:02.186457Z"
    },
    "papermill": {
     "duration": 0.018348,
     "end_time": "2023-03-13T02:41:02.190425",
     "exception": false,
     "start_time": "2023-03-13T02:41:02.172077",
     "status": "completed"
    },
    "tags": []
   },
   "outputs": [],
   "source": [
    "indices = pd.Series(data1.index, index=data1['title']).drop_duplicates()\n"
   ]
  },
  {
   "cell_type": "markdown",
   "id": "ba704a3c",
   "metadata": {
    "papermill": {
     "duration": 0.005126,
     "end_time": "2023-03-13T02:41:02.201051",
     "exception": false,
     "start_time": "2023-03-13T02:41:02.195925",
     "status": "completed"
    },
    "tags": []
   },
   "source": [
    "So now basically we have to do this process:\n",
    "* Find the index of the movie based on its title.\n",
    "* Calculate the cosine similarity scores between the given movie and all other movies.\n",
    "* Convert the similarity scores into a list of tuples, where the first element is the position of the movie and the second element is the similarity score.\n",
    "* Sort the list of tuples based on the similarity scores (the second element).\n",
    "* Get the top 10 elements from the sorted list, ignoring the first element as it refers to the given movie itself.\n",
    "* Retrieve the titles of the movies corresponding to the indices of the top elements.\n",
    "* Return the titles of the top 10 similar movies."
   ]
  },
  {
   "cell_type": "code",
   "execution_count": 9,
   "id": "7ee5a265",
   "metadata": {
    "execution": {
     "iopub.execute_input": "2023-03-13T02:41:02.213918Z",
     "iopub.status.busy": "2023-03-13T02:41:02.213231Z",
     "iopub.status.idle": "2023-03-13T02:41:02.219724Z",
     "shell.execute_reply": "2023-03-13T02:41:02.218908Z"
    },
    "papermill": {
     "duration": 0.015393,
     "end_time": "2023-03-13T02:41:02.221807",
     "exception": false,
     "start_time": "2023-03-13T02:41:02.206414",
     "status": "completed"
    },
    "tags": []
   },
   "outputs": [],
   "source": [
    "def get_recommendations(title, cos_similarity=cos_similarity):\n",
    "    # Get the index of the movie that matches the title\n",
    "    idx = indices[title]\n",
    "\n",
    "    # Get the pairwsie similarity scores of all movies with that movie\n",
    "    sim_scores = list(enumerate(cos_similarity[idx]))\n",
    "\n",
    "    # Sort the movies based on the similarity scores\n",
    "    sim_scores = sorted(sim_scores, key=lambda x: x[1], reverse=True)\n",
    "\n",
    "    # Get the scores of the 10 most similar movies\n",
    "    sim_scores = sim_scores[1:11]\n",
    "\n",
    "    # Get the movie indices\n",
    "    movie_indices = [i[0] for i in sim_scores]\n",
    "\n",
    "    # Return the top 10 most similar movies\n",
    "    return data1['title'].iloc[movie_indices]"
   ]
  },
  {
   "cell_type": "code",
   "execution_count": 10,
   "id": "42df5090",
   "metadata": {
    "execution": {
     "iopub.execute_input": "2023-03-13T02:41:02.235999Z",
     "iopub.status.busy": "2023-03-13T02:41:02.234896Z",
     "iopub.status.idle": "2023-03-13T02:41:02.249332Z",
     "shell.execute_reply": "2023-03-13T02:41:02.248485Z"
    },
    "papermill": {
     "duration": 0.02308,
     "end_time": "2023-03-13T02:41:02.251430",
     "exception": false,
     "start_time": "2023-03-13T02:41:02.228350",
     "status": "completed"
    },
    "tags": []
   },
   "outputs": [
    {
     "data": {
      "text/plain": [
       "65                              The Dark Knight\n",
       "299                              Batman Forever\n",
       "428                              Batman Returns\n",
       "1359                                     Batman\n",
       "3854    Batman: The Dark Knight Returns, Part 2\n",
       "119                               Batman Begins\n",
       "2507                                  Slow Burn\n",
       "9            Batman v Superman: Dawn of Justice\n",
       "1181                                        JFK\n",
       "210                              Batman & Robin\n",
       "Name: title, dtype: object"
      ]
     },
     "execution_count": 10,
     "metadata": {},
     "output_type": "execute_result"
    }
   ],
   "source": [
    "get_recommendations('The Dark Knight Rises')"
   ]
  },
  {
   "cell_type": "markdown",
   "id": "d0299ded",
   "metadata": {
    "papermill": {
     "duration": 0.005263,
     "end_time": "2023-03-13T02:41:02.262241",
     "exception": false,
     "start_time": "2023-03-13T02:41:02.256978",
     "status": "completed"
    },
    "tags": []
   },
   "source": [
    "As you can see we were able to get a pretty decent results using just content based recommendation system.Share your thoughts for improvements. Thank you. "
   ]
  },
  {
   "cell_type": "code",
   "execution_count": null,
   "id": "63077c4f",
   "metadata": {
    "papermill": {
     "duration": 0.005088,
     "end_time": "2023-03-13T02:41:02.272674",
     "exception": false,
     "start_time": "2023-03-13T02:41:02.267586",
     "status": "completed"
    },
    "tags": []
   },
   "outputs": [],
   "source": []
  }
 ],
 "metadata": {
  "kernelspec": {
   "display_name": "Python 3",
   "language": "python",
   "name": "python3"
  },
  "language_info": {
   "codemirror_mode": {
    "name": "ipython",
    "version": 3
   },
   "file_extension": ".py",
   "mimetype": "text/x-python",
   "name": "python",
   "nbconvert_exporter": "python",
   "pygments_lexer": "ipython3",
   "version": "3.7.12"
  },
  "papermill": {
   "default_parameters": {},
   "duration": 14.244886,
   "end_time": "2023-03-13T02:41:02.999239",
   "environment_variables": {},
   "exception": null,
   "input_path": "__notebook__.ipynb",
   "output_path": "__notebook__.ipynb",
   "parameters": {},
   "start_time": "2023-03-13T02:40:48.754353",
   "version": "2.4.0"
  }
 },
 "nbformat": 4,
 "nbformat_minor": 5
}
